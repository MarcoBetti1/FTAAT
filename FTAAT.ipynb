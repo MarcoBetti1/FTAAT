{
 "cells": [
  {
   "cell_type": "code",
   "execution_count": 1,
   "metadata": {},
   "outputs": [],
   "source": [
    "from datetime import datetime # Results & Storage\n",
    "import json # \n",
    "from pathlib import Path # \n",
    "\n",
    "from scripts.fact_gen import generate_facts_k_tokens # Helper Functions\n",
    "from scripts.build_prompt import build_prompt_for_all_keys #\n",
    "from scripts.eval import evaluate_token_sequences # "
   ]
  },
  {
   "cell_type": "code",
   "execution_count": 2,
   "metadata": {},
   "outputs": [],
   "source": [
    "import os\n",
    "from dotenv import load_dotenv # APIs\n",
    "from openai import OpenAI\n",
    "import tiktoken # Tokenizer\n",
    "\n",
    "load_dotenv() # Get dem api key\n",
    "\n",
    "client = OpenAI(\n",
    "    # This is the default and can be omitted\n",
    "    api_key=os.environ.get(\"OPENAI_API_KEY\"),\n",
    ")\n",
    "\n",
    "# Model\n",
    "MODEL_NAME = \"gpt-3.5-turbo\"\n",
    "ENCODING_NAME = \"gpt-3.5-turbo\"\n",
    "\n",
    "# For token counting\n",
    "encoding = tiktoken.encoding_for_model(ENCODING_NAME)"
   ]
  },
  {
   "cell_type": "code",
   "execution_count": 3,
   "metadata": {},
   "outputs": [],
   "source": [
    "def count_gpt_tokens(text: str) -> int:\n",
    "    \"\"\"Return how many tokens `text` uses under the GPT-3.5 (or GPT-4) tokenizer.\"\"\"\n",
    "    return len(encoding.encode(text))\n",
    "\n",
    "def query_gpt(prompt: str, model: str = MODEL_NAME, temperature: float = 0.0) -> str:\n",
    "    \"\"\"\n",
    "    Calls OpenAI's ChatCompletion API with the given prompt,\n",
    "    returns the assistant's message content.\n",
    "    \"\"\"\n",
    "    response = client.responses.create(\n",
    "        model=model,\n",
    "        instructions=\"You are a helpful assistant. Respond with only the correct answer on each line.\",\n",
    "        input=prompt,\n",
    "        temperature=temperature\n",
    "    )\n",
    "    return response.output_text"
   ]
  },
  {
   "cell_type": "code",
   "execution_count": 4,
   "metadata": {},
   "outputs": [
    {
     "name": "stdout",
     "output_type": "stream",
     "text": [
      "Single-token vocab size: 10000\n",
      "All tokens are single tokens.\n"
     ]
    }
   ],
   "source": [
    "# Load Token Set\n",
    "filename = \"data/tokens/alpha_tokens.json\"\n",
    "with open(filename, 'r') as f:\n",
    "        token_set = set(json.load(f))\n",
    "\n",
    "# Convert to list and count list\n",
    "single_token_vocab = list(token_set)\n",
    "print(\"Single-token vocab size:\", len(single_token_vocab))\n",
    "\n",
    "# Ensure unique tokens by count_gpt_tokens\n",
    "check_good = True\n",
    "for token in single_token_vocab:\n",
    "    if count_gpt_tokens(token) != 1:\n",
    "        print(f\"Token '{token}' has {count_gpt_tokens(token)} tokens, not 1.\")\n",
    "        check_good = False\n",
    "if check_good:\n",
    "    print(\"All tokens are single tokens.\")"
   ]
  },
  {
   "cell_type": "code",
   "execution_count": 5,
   "metadata": {},
   "outputs": [],
   "source": [
    "def grade_response(response_text: str, question_keys_in_order: list, key_value_dict: dict, num_facts: int, k: int):\n",
    "    \"\"\"\n",
    "    Grades GPT response:\n",
    "    -- Checks if response starts with a non-supported character\n",
    "    -- Converts response to a list of strings\n",
    "    -- Compares token count with expected token count\n",
    "    -- Compares response with expected response\n",
    "    Returns a tuple of (sequence_accuracy, token_accuracy, major_format_flaw)\n",
    "    \"\"\"\n",
    "    # Check if response starts or ends with a non supported character (a-z lowercase is only supported)\n",
    "    major_format_flaw = False\n",
    "    if not response_text[0].isalpha() or response_text[-1].isalpha():\n",
    "        major_format_flaw = True\n",
    "\n",
    "    # expected response\n",
    "    correct_response_seqs = [key_value_dict[key] for key in question_keys_in_order]\n",
    "\n",
    "    # Parse model response\n",
    "    response_seqs = [line.strip() for line in response_text.strip().split(\"\\n\") if line.strip()]\n",
    "\n",
    "    # Token Count (Using Tokenizer)\n",
    "    expected_token_count = sum(count_gpt_tokens(seq) for seq in correct_response_seqs)\n",
    "    response_token_count = sum(count_gpt_tokens(seq) for seq in response_seqs)\n",
    "\n",
    "    # Evaluate\n",
    "    scores = evaluate_token_sequences(response_seqs, correct_response_seqs)\n",
    "    return scores, major_format_flaw, expected_token_count, response_token_count\n"
   ]
  },
  {
   "cell_type": "code",
   "execution_count": 6,
   "metadata": {},
   "outputs": [
    {
     "name": "stderr",
     "output_type": "stream",
     "text": [
      "C:\\Users\\Marco\\AppData\\Local\\Temp\\ipykernel_31448\\1832724122.py:14: DeprecationWarning: datetime.datetime.utcnow() is deprecated and scheduled for removal in a future version. Use timezone-aware objects to represent datetimes in UTC: datetime.datetime.now(datetime.UTC).\n",
      "  timestamp = datetime.utcnow().strftime(\"%Y%m%dT%H%M%S\")\n"
     ]
    },
    {
     "data": {
      "text/plain": [
       "'Saved results grouped by (num_facts, k) in: results/gpt3.5_3k_6f_2t'"
      ]
     },
     "execution_count": 6,
     "metadata": {},
     "output_type": "execute_result"
    }
   ],
   "source": [
    "def run_experiments(\n",
    "    facts_list_sizes=[3, 6],\n",
    "    token_sizes=[2, 3],\n",
    "    trials=1,\n",
    "    output_dir=\"results\"\n",
    "):\n",
    "    \"\"\"Run GPT response evaluations and save structured JSON per (num_facts, k) combo.\"\"\"\n",
    "    Path(output_dir).mkdir(parents=True, exist_ok=True)\n",
    "    single_token_vocab = list(token_set)\n",
    "\n",
    "    for num_facts in facts_list_sizes:\n",
    "        for k in token_sizes:\n",
    "            group_id = f\"{num_facts}facts_{k}tokens\"\n",
    "            timestamp = datetime.utcnow().strftime(\"%Y%m%dT%H%M%S\")\n",
    "            file_id = f\"{group_id}_{timestamp}\"\n",
    "            output_path = Path(output_dir) / f\"{file_id}.json\"\n",
    "\n",
    "            results_group = {\n",
    "                \"id\": file_id,\n",
    "                \"num_facts\": num_facts,\n",
    "                \"k\": k,\n",
    "                \"trials\": []\n",
    "            }\n",
    "\n",
    "            for trial_idx in range(trials):\n",
    "                # Generate data\n",
    "                facts_list, key_value_dict = generate_facts_k_tokens(num_facts, k, single_token_vocab)\n",
    "                prompt_text, question_keys = build_prompt_for_all_keys(facts_list)\n",
    "\n",
    "                try:\n",
    "                    response = query_gpt(prompt_text, model=MODEL_NAME, temperature=0.0)\n",
    "                except Exception as e:\n",
    "                    response = f\"ERROR: {str(e)}\"\n",
    "\n",
    "                correct_response_text = \"\\n\".join(key_value_dict[key] for key in question_keys)\n",
    "\n",
    "                # Grade and evaluate\n",
    "                (seq_acc, tok_acc), major_format_flaw, expected_token_count, response_token_count = grade_response(\n",
    "                    response, question_keys, key_value_dict, num_facts, k\n",
    "                )\n",
    "\n",
    "                trial_record = {\n",
    "                    \"trial\": trial_idx,\n",
    "                    \"sequence_accuracy\": seq_acc,\n",
    "                    \"token_accuracy\": tok_acc,\n",
    "                    \"major_format_flaw\": major_format_flaw,\n",
    "                    \"prompt_text\": prompt_text,\n",
    "                    \"response_text\": response,\n",
    "                    \"response_token_count\": response_token_count,\n",
    "                    \"expected_response_text\": correct_response_text,\n",
    "                    \"expected_token_count\": expected_token_count\n",
    "                }\n",
    "\n",
    "                results_group[\"trials\"].append(trial_record)\n",
    "\n",
    "            with open(output_path, \"w\", encoding=\"utf-8\") as f:\n",
    "                json.dump(results_group, f, indent=2)\n",
    "\n",
    "    return f\"Saved results grouped by (num_facts, k) in: {output_dir}\"\n",
    "\n",
    "\n",
    "run_experiments(\n",
    "    facts_list_sizes=[3],\n",
    "    token_sizes=[2],\n",
    "    trials=1,\n",
    "    output_dir=\"results/gpt3.5_3k_6f_2t\" \n",
    ")\n"
   ]
  },
  {
   "cell_type": "code",
   "execution_count": 7,
   "metadata": {},
   "outputs": [
    {
     "name": "stdout",
     "output_type": "stream",
     "text": [
      "c:\\Users\\Marco\\Desktop\\FTAT\\FTAT\\venv\\Scripts\\python.exe\n"
     ]
    }
   ],
   "source": [
    "import sys\n",
    "print(sys.executable)"
   ]
  }
 ],
 "metadata": {
  "kernelspec": {
   "display_name": "venv",
   "language": "python",
   "name": "python3"
  },
  "language_info": {
   "codemirror_mode": {
    "name": "ipython",
    "version": 3
   },
   "file_extension": ".py",
   "mimetype": "text/x-python",
   "name": "python",
   "nbconvert_exporter": "python",
   "pygments_lexer": "ipython3",
   "version": "3.12.10"
  }
 },
 "nbformat": 4,
 "nbformat_minor": 2
}
